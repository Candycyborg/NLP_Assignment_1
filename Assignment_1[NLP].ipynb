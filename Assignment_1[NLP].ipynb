{
 "cells": [
  {
   "cell_type": "markdown",
   "metadata": {},
   "source": [
    "# Question 1 - Tokens, Types & TTR"
   ]
  },
  {
   "cell_type": "code",
   "execution_count": 22,
   "metadata": {},
   "outputs": [],
   "source": [
    "import nltk"
   ]
  },
  {
   "cell_type": "code",
   "execution_count": 23,
   "metadata": {},
   "outputs": [],
   "source": [
    "from nltk.tokenize import TweetTokenizer"
   ]
  },
  {
   "cell_type": "code",
   "execution_count": 24,
   "metadata": {},
   "outputs": [],
   "source": [
    "tknzr = TweetTokenizer()"
   ]
  },
  {
   "cell_type": "code",
   "execution_count": 187,
   "metadata": {},
   "outputs": [],
   "source": [
    "import pandas as pd\n",
    "import re\n",
    "import string"
   ]
  },
  {
   "cell_type": "code",
   "execution_count": 188,
   "metadata": {},
   "outputs": [],
   "source": [
    "csv_file = pd.read_csv('C:\\\\Users\\\\Anup\\\\Desktop\\\\tweets-dataset.csv', header=None)\n",
    "\n",
    "tokens = [] #tokens is list containing lists\n",
    "punc = string.punctuation\n",
    "for i in range(1, len(csv_file)):\n",
    "  tokens.append(tknzr.tokenize(csv_file[0][i]))"
   ]
  },
  {
   "cell_type": "code",
   "execution_count": 191,
   "metadata": {},
   "outputs": [],
   "source": [
    "len_tokens = 0 #total num of tokens in corpus\n",
    "tokens_arr = [] #list of all tokens \n",
    "for i in tokens:\n",
    "    for j in i:\n",
    "        if re.match(r\"https:\\/\\/\\S*|pic.twitter\\S*\",j) or re.match(r\"\\.[\\s.]*\\.\",j) or j in punc:\n",
    "            i.remove(j)\n",
    "    tokens_arr += i\n",
    "    len_tokens += len(i)"
   ]
  },
  {
   "cell_type": "code",
   "execution_count": 192,
   "metadata": {
    "scrolled": false
   },
   "outputs": [
    {
     "name": "stdout",
     "output_type": "stream",
     "text": [
      "Number of tokens are: 320418\n",
      "Number of types are: 47893\n",
      "TTR : 0.149470379317\n"
     ]
    }
   ],
   "source": [
    "print \"Number of tokens are:\",len(tokens_arr)\n",
    "print \"Number of types are:\",len(set(tokens_arr))\n",
    "print \"TTR :\", float(len(set(tokens_arr)))/len(tokens_arr) #ratio of types to number of tokens"
   ]
  },
  {
   "cell_type": "markdown",
   "metadata": {},
   "source": [
    "# Question 2 - Zipf's Law"
   ]
  },
  {
   "cell_type": "code",
   "execution_count": 141,
   "metadata": {},
   "outputs": [],
   "source": [
    "import random\n",
    "import math\n",
    "import numpy as np\n",
    "from scipy.optimize import curve_fit"
   ]
  },
  {
   "cell_type": "code",
   "execution_count": 123,
   "metadata": {},
   "outputs": [],
   "source": [
    "from nltk.corpus import wordnet #using wordnet to return meanings\n",
    "\n",
    "def len_meanings(word): #function which returns number of meanings of word\n",
    "    synonyms = []\n",
    "    for syn in wordnet.synsets(word):\n",
    "        for l in syn.lemmas():\n",
    "            synonyms.append(l.name())\n",
    "    return len(synonyms)"
   ]
  },
  {
   "cell_type": "code",
   "execution_count": 134,
   "metadata": {},
   "outputs": [],
   "source": [
    "meanings_length = []\n",
    "word_length = []\n",
    "root_freq = []\n",
    "freq = []\n",
    "types = list(set(tokens_arr)) #list of types\n",
    "\n",
    "for i in range(10000): #choosing random words from corpus\n",
    "    \n",
    "    rand = random.choice(types)\n",
    "    coun = tokens_arr.count(rand)\n",
    "    \n",
    "    word_length.append(len(rand))\n",
    "    root_freq.append(math.sqrt(coun))\n",
    "    \n",
    "    freq.append(coun)\n",
    "    meanings_length.append(len_meanings(rand)) #appending number of meanings of word"
   ]
  },
  {
   "cell_type": "markdown",
   "metadata": {},
   "source": [
    "### Number of meanings of word vs Square root of frequency"
   ]
  },
  {
   "cell_type": "code",
   "execution_count": 185,
   "metadata": {},
   "outputs": [
    {
     "data": {
      "text/plain": [
       "Text(0,0.5,'Number of meanings of word')"
      ]
     },
     "execution_count": 185,
     "metadata": {},
     "output_type": "execute_result"
    },
    {
     "data": {
      "image/png": "[encoded data removed]",
      "text/plain": [
       "<Figure size 432x288 with 1 Axes>"
      ]
     },
     "metadata": {
      "needs_background": "light"
     },
     "output_type": "display_data"
    }
   ],
   "source": [
    "plt.scatter(root_freq, meanings_length,s=4) #plotting the graph between meanings of word to the root of length of word\n",
    "plt.title('Zipf`s Law')\n",
    "plt.xlabel('Square root of frequency')\n",
    "plt.ylabel('Number of meanings of word')"
   ]
  },
  {
   "cell_type": "markdown",
   "metadata": {},
   "source": [
    "### Frequency of words vs Length of word"
   ]
  },
  {
   "cell_type": "code",
   "execution_count": 172,
   "metadata": {},
   "outputs": [
    {
     "name": "stdout",
     "output_type": "stream",
     "text": [
      "Length = 10.147026386578966 * 1 / Frequency\n"
     ]
    }
   ],
   "source": [
    "def test_fl(n,k):\n",
    "    return k*(1/n)\n",
    "\n",
    "param1, param_cov1 = curve_fit(test, freq, word_length)\n",
    "print(\"Length = \"+ str(param1[0]) + \" * 1 / Frequency\")\n",
    "ans = param1[0]/freq"
   ]
  },
  {
   "cell_type": "code",
   "execution_count": 179,
   "metadata": {},
   "outputs": [
    {
     "data": {
      "text/plain": [
       "Text(0,0.5,'Length of word')"
      ]
     },
     "execution_count": 179,
     "metadata": {},
     "output_type": "execute_result"
    },
    {
     "data": {
      "image/png": "[encoded data removed]",
      "text/plain": [
       "<Figure size 432x288 with 1 Axes>"
      ]
     },
     "metadata": {
      "needs_background": "light"
     },
     "output_type": "display_data"
    }
   ],
   "source": [
    "plt.scatter(freq, word_length, s=4)\n",
    "plt.title('zipf`s Law (Frequency vs Length of word)')\n",
    "plt.xlabel('Frequency of words')\n",
    "plt.ylabel('Length of word')"
   ]
  },
  {
   "cell_type": "markdown",
   "metadata": {},
   "source": [
    "### Length of word vs Number of meanings of word"
   ]
  },
  {
   "cell_type": "code",
   "execution_count": 184,
   "metadata": {},
   "outputs": [
    {
     "data": {
      "text/plain": [
       "Text(0.5,0,'Length of word')"
      ]
     },
     "execution_count": 184,
     "metadata": {},
     "output_type": "execute_result"
    },
    {
     "data": {
      "image/png": "[encoded data removed]",
      "text/plain": [
       "<Figure size 432x288 with 1 Axes>"
      ]
     },
     "metadata": {
      "needs_background": "light"
     },
     "output_type": "display_data"
    }
   ],
   "source": [
    "plt.scatter(word_length, meanings_length, s =4)\n",
    "plt.title('zipf`s Law (Length of word vs Number of meanings)')\n",
    "plt.ylabel('Number of meanings of word')\n",
    "plt.xlabel('Length of word')"
   ]
  },
  {
   "cell_type": "markdown",
   "metadata": {},
   "source": [
    "# Question 3 - Heap's Law"
   ]
  },
  {
   "cell_type": "code",
   "execution_count": 41,
   "metadata": {},
   "outputs": [],
   "source": [
    "x = [] #Number of tokens\n",
    "y = [] #Size of vocabulary\n",
    "\n",
    "for i in range(1, len(tokens_arr),100):\n",
    "    x.append(i)\n",
    "    y.append(len(set(tokens_arr[:i])))"
   ]
  },
  {
   "cell_type": "code",
   "execution_count": 42,
   "metadata": {},
   "outputs": [],
   "source": [
    "import matplotlib.pyplot as plt"
   ]
  },
  {
   "cell_type": "code",
   "execution_count": 44,
   "metadata": {},
   "outputs": [
    {
     "data": {
      "image/png": "[encoded data removed]",
      "text/plain": [
       "<Figure size 432x288 with 1 Axes>"
      ]
     },
     "metadata": {
      "needs_background": "light"
     },
     "output_type": "display_data"
    }
   ],
   "source": [
    "plt.plot(x, y)\n",
    "plt.title('Heap`s Law')\n",
    "plt.xlabel('Tokens')\n",
    "plt.ylabel('Vocabulary')\n",
    "plt.show()"
   ]
  }
 ],
 "metadata": {
  "kernelspec": {
   "display_name": "Python 2",
   "language": "python",
   "name": "python2"
  },
  "language_info": {
   "codemirror_mode": {
    "name": "ipython",
    "version": 2
   },
   "file_extension": ".py",
   "mimetype": "text/x-python",
   "name": "python",
   "nbconvert_exporter": "python",
   "pygments_lexer": "ipython2",
   "version": "2.7.16"
  }
 },
 "nbformat": 4,
 "nbformat_minor": 2
}
